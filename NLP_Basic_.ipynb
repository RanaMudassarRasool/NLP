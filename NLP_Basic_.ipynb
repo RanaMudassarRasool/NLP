{
  "nbformat": 4,
  "nbformat_minor": 0,
  "metadata": {
    "colab": {
      "provenance": [],
      "authorship_tag": "ABX9TyMFV44MjQcdJDt4tDndcWI6",
      "include_colab_link": true
    },
    "kernelspec": {
      "name": "python3",
      "display_name": "Python 3"
    },
    "language_info": {
      "name": "python"
    }
  },
  "cells": [
    {
      "cell_type": "markdown",
      "metadata": {
        "id": "view-in-github",
        "colab_type": "text"
      },
      "source": [
        "<a href=\"https://colab.research.google.com/github/ranamaddy/NLP/blob/main/NLP_Basic_.ipynb\" target=\"_parent\"><img src=\"https://colab.research.google.com/assets/colab-badge.svg\" alt=\"Open In Colab\"/></a>"
      ]
    },
    {
      "cell_type": "code",
      "execution_count": 1,
      "metadata": {
        "colab": {
          "base_uri": "https://localhost:8080/"
        },
        "id": "GWoaSzbnFPoS",
        "outputId": "53b49ae4-c773-4fe1-ea6e-1f78a5806931"
      },
      "outputs": [
        {
          "output_type": "stream",
          "name": "stderr",
          "text": [
            "[nltk_data] Downloading package punkt to /root/nltk_data...\n",
            "[nltk_data]   Unzipping tokenizers/punkt.zip.\n"
          ]
        },
        {
          "output_type": "execute_result",
          "data": {
            "text/plain": [
              "True"
            ]
          },
          "metadata": {},
          "execution_count": 1
        }
      ],
      "source": [
        "# basic example of NLP tokenization \n",
        "import nltk\n",
        "nltk.download('punkt')\n"
      ]
    },
    {
      "cell_type": "code",
      "source": [
        "from nltk.tokenize import word_tokenize\n",
        "text = \"This is a basic example of NLP tokenization.\"\n",
        "tokens = word_tokenize(text)\n",
        "print(tokens)"
      ],
      "metadata": {
        "colab": {
          "base_uri": "https://localhost:8080/"
        },
        "id": "mZ-tLSqtFomT",
        "outputId": "b55af0a9-7608-42ec-a756-35efd3a3bbc3"
      },
      "execution_count": 2,
      "outputs": [
        {
          "output_type": "stream",
          "name": "stdout",
          "text": [
            "['This', 'is', 'a', 'basic', 'example', 'of', 'NLP', 'tokenization', '.']\n"
          ]
        }
      ]
    },
    {
      "cell_type": "code",
      "source": [
        "\n",
        "# importing the required library for stemming\n",
        "from nltk.stem import PorterStemmer\n",
        "# creating an instance of PorterStemmer\n",
        "ps = PorterStemmer()\n",
        "# stemming the tokens\n",
        "stemmed_tokens = [ps.stem(token) for token in tokens]\n",
        "print(stemmed_tokens)"
      ],
      "metadata": {
        "colab": {
          "base_uri": "https://localhost:8080/"
        },
        "id": "k9F0ChsKFsEX",
        "outputId": "f9232ae0-0eb2-49c0-8ac8-94b9ee3b3c6a"
      },
      "execution_count": 3,
      "outputs": [
        {
          "output_type": "stream",
          "name": "stdout",
          "text": [
            "['thi', 'is', 'a', 'basic', 'exampl', 'of', 'nlp', 'token', '.']\n"
          ]
        }
      ]
    },
    {
      "cell_type": "code",
      "source": [
        "# importing the required library for lemmatization\n",
        "from nltk.stem import WordNetLemmatizer\n",
        "nltk.download('wordnet')\n",
        "# creating an instance of WordNetLemmatizer\n",
        "wnl = WordNetLemmatizer()\n",
        "# lemmatizing the tokens\n",
        "lemmatized_tokens = [wnl.lemmatize(token) for token in tokens]\n",
        "print(lemmatized_tokens)"
      ],
      "metadata": {
        "colab": {
          "base_uri": "https://localhost:8080/"
        },
        "id": "GE2r1FgvF7vl",
        "outputId": "d82e34bd-b2d8-4dc4-e432-275dff8b3fa0"
      },
      "execution_count": 4,
      "outputs": [
        {
          "output_type": "stream",
          "name": "stderr",
          "text": [
            "[nltk_data] Downloading package wordnet to /root/nltk_data...\n"
          ]
        },
        {
          "output_type": "stream",
          "name": "stdout",
          "text": [
            "['This', 'is', 'a', 'basic', 'example', 'of', 'NLP', 'tokenization', '.']\n"
          ]
        }
      ]
    },
    {
      "cell_type": "code",
      "source": [
        "# importing the required library for part-of-speech tagging\n",
        "nltk.download('averaged_perceptron_tagger')\n",
        "from nltk import pos_tag\n",
        "# performing part-of-speech tagging on the tokens\n",
        "pos_tags = pos_tag(tokens)\n",
        "print(pos_tags)"
      ],
      "metadata": {
        "colab": {
          "base_uri": "https://localhost:8080/"
        },
        "id": "hkdVKcsYGXce",
        "outputId": "0c2b3847-3f88-4288-b9c3-b9a665d36d29"
      },
      "execution_count": 6,
      "outputs": [
        {
          "output_type": "stream",
          "name": "stderr",
          "text": [
            "[nltk_data] Downloading package averaged_perceptron_tagger to\n",
            "[nltk_data]     /root/nltk_data...\n",
            "[nltk_data]   Unzipping taggers/averaged_perceptron_tagger.zip.\n"
          ]
        },
        {
          "output_type": "stream",
          "name": "stdout",
          "text": [
            "[('This', 'DT'), ('is', 'VBZ'), ('a', 'DT'), ('basic', 'JJ'), ('example', 'NN'), ('of', 'IN'), ('NLP', 'NNP'), ('tokenization', 'NN'), ('.', '.')]\n"
          ]
        }
      ]
    },
    {
      "cell_type": "code",
      "source": [
        "# importing the required library for named entity recognition\n",
        "nltk.download('maxent_ne_chunker')\n",
        "nltk.download('words')\n",
        "from nltk import ne_chunk\n",
        "# performing named entity recognition on the tokens\n",
        "ner_tags = ne_chunk(pos_tags)\n",
        "print(ner_tags)"
      ],
      "metadata": {
        "colab": {
          "base_uri": "https://localhost:8080/"
        },
        "id": "qjjizZhkGydy",
        "outputId": "679a47ff-ac82-4bf9-c10d-b78d159843d8"
      },
      "execution_count": 7,
      "outputs": [
        {
          "output_type": "stream",
          "name": "stderr",
          "text": [
            "[nltk_data] Downloading package maxent_ne_chunker to\n",
            "[nltk_data]     /root/nltk_data...\n",
            "[nltk_data]   Unzipping chunkers/maxent_ne_chunker.zip.\n"
          ]
        },
        {
          "output_type": "stream",
          "name": "stdout",
          "text": [
            "(S\n",
            "  This/DT\n",
            "  is/VBZ\n",
            "  a/DT\n",
            "  basic/JJ\n",
            "  example/NN\n",
            "  of/IN\n",
            "  (ORGANIZATION NLP/NNP)\n",
            "  tokenization/NN\n",
            "  ./.)\n"
          ]
        },
        {
          "output_type": "stream",
          "name": "stderr",
          "text": [
            "[nltk_data] Downloading package words to /root/nltk_data...\n",
            "[nltk_data]   Unzipping corpora/words.zip.\n"
          ]
        }
      ]
    },
    {
      "cell_type": "code",
      "source": [
        "#There is no need to add any code as the given code already covers the required libraries and functions for stemming, lemmatization, part-of-speech tagging, and named entity recognition using NLTK. However, it is worth noting that the code assumes that the variable `tokens` has already been defined and contains a list of tokenized words. If not, the code will throw an error.\n",
        "\n",
        "#As an additional step, we can also remove stop words from the tokenized words to further clean the text data. Here's how we can do it:\n",
        "\n",
        "# importing the required library for stop words removal\n",
        "nltk.download('stopwords')\n",
        "from nltk.corpus import stopwords\n",
        "# removing stop words from the tokenized words\n",
        "stop_words = set(stopwords.words('english'))\n",
        "filtered_tokens = [word for word in tokens if not word.lower() in stop_words]\n",
        "print(filtered_tokens)\n"
      ],
      "metadata": {
        "colab": {
          "base_uri": "https://localhost:8080/"
        },
        "id": "wfZ-T9LdG3Kb",
        "outputId": "92504f51-bb82-4a92-ce73-f102fb1f84b7"
      },
      "execution_count": 8,
      "outputs": [
        {
          "output_type": "stream",
          "name": "stdout",
          "text": [
            "['basic', 'example', 'NLP', 'tokenization', '.']\n"
          ]
        },
        {
          "output_type": "stream",
          "name": "stderr",
          "text": [
            "[nltk_data] Downloading package stopwords to /root/nltk_data...\n",
            "[nltk_data]   Unzipping corpora/stopwords.zip.\n"
          ]
        }
      ]
    },
    {
      "cell_type": "code",
      "source": [
        "#As a final step, we can also perform sentiment analysis on the filtered tokens to determine the overall sentiment of the text data. Here's how we can do it:\n",
        "# importing the required library for sentiment analysis\n",
        "nltk.download('vader_lexicon')\n",
        "from nltk.sentiment import SentimentIntensityAnalyzer\n",
        "# initializing the sentiment analyzer\n",
        "sia = SentimentIntensityAnalyzer()\n",
        "# analyzing the sentiment of the filtered tokens\n",
        "sentiment_scores = sia.polarity_scores(' '.join(filtered_tokens))\n",
        "print(sentiment_scores)"
      ],
      "metadata": {
        "colab": {
          "base_uri": "https://localhost:8080/"
        },
        "id": "RtqYdZwhHg6s",
        "outputId": "e90ef23c-8e6f-4b23-f4e8-3443ca31e9f6"
      },
      "execution_count": 9,
      "outputs": [
        {
          "output_type": "stream",
          "name": "stdout",
          "text": [
            "{'neg': 0.0, 'neu': 1.0, 'pos': 0.0, 'compound': 0.0}\n"
          ]
        },
        {
          "output_type": "stream",
          "name": "stderr",
          "text": [
            "[nltk_data] Downloading package vader_lexicon to /root/nltk_data...\n"
          ]
        }
      ]
    },
    {
      "cell_type": "code",
      "source": [
        "# The above code performs tokenization, stop words removal and sentiment analysis on text data. Here's the complete code:\n",
        "import nltk\n",
        "from nltk.tokenize import word_tokenize\n",
        "from nltk.corpus import stopwords\n",
        "from nltk.sentiment import SentimentIntensityAnalyzer\n",
        "# importing the text data\n",
        "text_data = \"This is a sample text data for performing sentiment analysis using NLTK library. We will perform tokenization, stop words removal and sentiment analysis on this text data.\"\n",
        "# tokenizing the text data\n",
        "tokens = word_tokenize(text_data)\n",
        "# removing stop words from the tokens\n",
        "stop_words = set(stopwords.words('english'))\n",
        "filtered_tokens = [token for token in tokens if token.lower() not in stop_words]\n",
        "# printing the filtered tokens\n",
        "print(filtered_tokens)\n"
      ],
      "metadata": {
        "colab": {
          "base_uri": "https://localhost:8080/"
        },
        "id": "9-eVLYDrHonm",
        "outputId": "9fa22068-db9d-4d94-a39b-ad1ee950a1fd"
      },
      "execution_count": 10,
      "outputs": [
        {
          "output_type": "stream",
          "name": "stdout",
          "text": [
            "['sample', 'text', 'data', 'performing', 'sentiment', 'analysis', 'using', 'NLTK', 'library', '.', 'perform', 'tokenization', ',', 'stop', 'words', 'removal', 'sentiment', 'analysis', 'text', 'data', '.']\n"
          ]
        }
      ]
    },
    {
      "cell_type": "code",
      "source": [
        "# printing the length of filtered tokens\n",
        "print(\"Number of filtered tokens:\", len(filtered_tokens))\n"
      ],
      "metadata": {
        "colab": {
          "base_uri": "https://localhost:8080/"
        },
        "id": "YIylUjH6H2WZ",
        "outputId": "5b30c958-a4b0-4c54-e287-68897d95f8d2"
      },
      "execution_count": 11,
      "outputs": [
        {
          "output_type": "stream",
          "name": "stdout",
          "text": [
            "Number of filtered tokens: 21\n"
          ]
        }
      ]
    },
    {
      "cell_type": "code",
      "source": [
        "# printing the sentiment scores\n",
        "sia = SentimentIntensityAnalyzer()\n",
        "sentiment_scores = sia.polarity_scores(' '.join(filtered_tokens))\n",
        "print(sentiment_scores)"
      ],
      "metadata": {
        "colab": {
          "base_uri": "https://localhost:8080/"
        },
        "id": "a6uQmNMXIGgC",
        "outputId": "b93e2112-26a1-423e-b4a8-3715a6659730"
      },
      "execution_count": 12,
      "outputs": [
        {
          "output_type": "stream",
          "name": "stdout",
          "text": [
            "{'neg': 0.115, 'neu': 0.885, 'pos': 0.0, 'compound': -0.296}\n"
          ]
        }
      ]
    },
    {
      "cell_type": "code",
      "source": [
        "# importing necessary libraries\n",
        "import nltk\n",
        "from nltk.tokenize import word_tokenize\n",
        "from nltk.corpus import stopwords\n",
        "from nltk.sentiment import SentimentIntensityAnalyzer\n",
        "\n",
        "# importing the text data\n",
        "text_data = \"This is a sample text data for performing sentiment analysis using NLTK library. We will perform tokenization, stop words removal and sentiment analysis on this text data.\"\n",
        "# tokenizing the text data\n",
        "tokens = word_tokenize(text_data)\n",
        "# defining the stop words\n",
        "stop_words = set(stopwords.words('english'))\n",
        "# filtering out the stop words from the tokens\n",
        "filtered_tokens = [token for token in tokens if token.lower() not in stop_words]\n",
        "# calculating the frequency distribution of the filtered tokens\n",
        "freq_dist = nltk.FreqDist(filtered_tokens)\n",
        "print(freq_dist.most_common(10))\n"
      ],
      "metadata": {
        "colab": {
          "base_uri": "https://localhost:8080/"
        },
        "id": "KuvbDMdEIJjw",
        "outputId": "216b99cb-d359-4062-b679-013313383dd8"
      },
      "execution_count": 15,
      "outputs": [
        {
          "output_type": "stream",
          "name": "stdout",
          "text": [
            "[('text', 2), ('data', 2), ('sentiment', 2), ('analysis', 2), ('.', 2), ('sample', 1), ('performing', 1), ('using', 1), ('NLTK', 1), ('library', 1)]\n"
          ]
        }
      ]
    },
    {
      "cell_type": "code",
      "source": [
        "#The above code imports necessary libraries and performs sentiment analysis on the given text data. It tokenizes the text data, removes stop words, and calculates the frequency distribution of the filtered tokens. Finally, it prints the 10 most common tokens.append\n",
        "# performing sentiment analysis on the text data\n",
        "\n",
        "sia = SentimentIntensityAnalyzer()\n",
        "sentiment_scores = sia.polarity_scores(text_data)\n",
        "print(sentiment_scores)\n",
        "\n"
      ],
      "metadata": {
        "colab": {
          "base_uri": "https://localhost:8080/"
        },
        "id": "n16fCNzAIhAX",
        "outputId": "754a6bf8-2109-48c2-b6ec-3c7be43210a7"
      },
      "execution_count": 16,
      "outputs": [
        {
          "output_type": "stream",
          "name": "stdout",
          "text": [
            "{'neg': 0.081, 'neu': 0.919, 'pos': 0.0, 'compound': -0.296}\n"
          ]
        }
      ]
    },
    {
      "cell_type": "code",
      "source": [
        "#The above code performs sentiment analysis on the given text data using the SentimentIntensityAnalyzer from the NLTK library. It calculates the polarity scores of the text data and prints them.\n",
        "# performing named entity recognition on the text data\n",
        "ner_tags = nltk.ne_chunk(nltk.pos_tag(tokens))\n",
        "print(ner_tags) \n"
      ],
      "metadata": {
        "colab": {
          "base_uri": "https://localhost:8080/"
        },
        "id": "3NHXtGZEIqBQ",
        "outputId": "94cfad30-0a24-4bb7-e715-8638202daaea"
      },
      "execution_count": 17,
      "outputs": [
        {
          "output_type": "stream",
          "name": "stdout",
          "text": [
            "(S\n",
            "  This/DT\n",
            "  is/VBZ\n",
            "  a/DT\n",
            "  sample/JJ\n",
            "  text/NN\n",
            "  data/NNS\n",
            "  for/IN\n",
            "  performing/VBG\n",
            "  sentiment/NN\n",
            "  analysis/NN\n",
            "  using/VBG\n",
            "  (ORGANIZATION NLTK/NNP)\n",
            "  library/NN\n",
            "  ./.\n",
            "  We/PRP\n",
            "  will/MD\n",
            "  perform/VB\n",
            "  tokenization/NN\n",
            "  ,/,\n",
            "  stop/VB\n",
            "  words/NNS\n",
            "  removal/NN\n",
            "  and/CC\n",
            "  sentiment/NN\n",
            "  analysis/NN\n",
            "  on/IN\n",
            "  this/DT\n",
            "  text/NN\n",
            "  data/NN\n",
            "  ./.)\n"
          ]
        }
      ]
    },
    {
      "cell_type": "code",
      "source": [
        "# The above code performs named entity recognition on the tokenized text data using the ne_chunk function from the NLTK library. It first performs part-of-speech tagging on the tokens and then identifies named entities in the text data. It then prints the named entities along with their corresponding tags.\n",
        "# performing frequency distribution analysis on the filtered tokens\n",
        "# import  FreqDist class from nltk\n",
        "# we need to import the matplotlib.pyplot library and give it an alias 'plt'\n",
        "from nltk.probability import FreqDist\n",
        "\n",
        "import matplotlib.pyplot as plt\n",
        "from nltk.probability import FreqDist\n",
        "stop_words = set(stopwords.words('english'))\n",
        "filtered_tokens = [word for word in tokens if word.lower() not in stop_words]\n",
        "fdist = FreqDist(filtered_tokens)  \n",
        "print(fdist.most_common(10))\n",
        "# The below code plots the frequency distribution of the filtered tokens using the plot function from the NLTK library.\n",
        "\n",
        "fdist.plot(30, cumulative=False)\n",
        "plt.show()  \n",
        "\n",
        "\n",
        " \n",
        "\n"
      ],
      "metadata": {
        "colab": {
          "base_uri": "https://localhost:8080/",
          "height": 347
        },
        "id": "73AnGhkgIvcE",
        "outputId": "e6caa012-ffdb-48f7-c553-3651160f7fe3"
      },
      "execution_count": 23,
      "outputs": [
        {
          "output_type": "stream",
          "name": "stdout",
          "text": [
            "[('text', 2), ('data', 2), ('sentiment', 2), ('analysis', 2), ('.', 2), ('sample', 1), ('performing', 1), ('using', 1), ('NLTK', 1), ('library', 1)]\n"
          ]
        },
        {
          "output_type": "display_data",
          "data": {
            "text/plain": [
              "<Figure size 432x288 with 1 Axes>"
            ],
            "image/png": "[encoded data removed]"
          },
          "metadata": {
            "needs_background": "light"
          }
        }
      ]
    },
    {
      "cell_type": "code",
      "source": [
        "# The above code performs frequency distribution analysis on the filtered tokens. It first imports the FreqDist class from the NLTK library and the matplotlib.pyplot library with an alias 'plt'. It then removes stop words from the tokens and creates a frequency distribution object using the FreqDist class. It prints the 10 most common tokens and plots the frequency distribution using the plot function from the FreqDist\n",
        "\n",
        "#class and the show function from the matplotlib.pyplot library. The plot function takes in the number of most common tokens to plot and a boolean value indicating whether to plot a cumulative distribution or not. Finally, the show function displays the plot.\n",
        "\n",
        "# Let's add some code to save the frequency distribution plot as an image file\n",
        "# We can use the savefig function from the matplotlib.pyplot library to save the plot as an image file\n",
        "# Let's add the following code after plt.show()\n",
        "plt.savefig('frequency_distribution.png')\n",
        "#This code will save the frequency distribution plot as an image file named 'frequency_distribution.png'. \n",
        "\n"
      ],
      "metadata": {
        "colab": {
          "base_uri": "https://localhost:8080/",
          "height": 34
        },
        "id": "A0FJB8BRJ1zv",
        "outputId": "b3633e95-2692-4932-99f2-f049ade54ee9"
      },
      "execution_count": 25,
      "outputs": [
        {
          "output_type": "display_data",
          "data": {
            "text/plain": [
              "<Figure size 432x288 with 0 Axes>"
            ]
          },
          "metadata": {}
        }
      ]
    },
    {
      "cell_type": "code",
      "source": [
        "# Here's the updated code:\n",
        "from nltk.probability import FreqDist\n",
        "import matplotlib.pyplot as plt\n",
        "from nltk.corpus import stopwords\n",
        "from nltk.tokenize import word_tokenize\n",
        "text = \"This is a sample text with several words. We will use this text to create a frequency distribution of the words.\"\n",
        "tokens = word_tokenize(text)\n",
        "stop_words = set(stopwords.words('english'))\n",
        "filtered_tokens = [token for token in tokens if token.lower() not in stop_words]\n",
        "fdist = FreqDist(filtered_tokens)\n",
        "print(fdist.most_common(10))\n",
        "fdist.plot(30, cumulative=False)\n",
        "plt.xlabel('Word')\n",
        "plt.ylabel('Frequency')\n",
        "plt.title('Frequency Distribution')\n",
        "plt.savefig('frequency_distribution.png')\n",
        "plt.show()\n",
        "#The updated code imports the necessary libraries and modules, defines a sample text, tokenizes the text, removes stop words from the tokens, creates a frequency distribution of the filtered tokens, prints the 10 most common words, plots a frequency distribution graph of the top 30 words, adds labels and a title to the plot, saves the plot as an image file named 'frequency_distribution.png', and displays\n",
        "#the plot on the screen.\n"
      ],
      "metadata": {
        "colab": {
          "base_uri": "https://localhost:8080/",
          "height": 621
        },
        "id": "xLFNIPcUKVTX",
        "outputId": "7805b2b2-92d9-4dc7-b276-a2a80025f927"
      },
      "execution_count": 26,
      "outputs": [
        {
          "output_type": "stream",
          "name": "stdout",
          "text": [
            "[('text', 2), ('words', 2), ('.', 2), ('sample', 1), ('several', 1), ('use', 1), ('create', 1), ('frequency', 1), ('distribution', 1)]\n"
          ]
        },
        {
          "output_type": "display_data",
          "data": {
            "text/plain": [
              "<Figure size 432x288 with 1 Axes>"
            ],
            "image/png": "[encoded data removed]"
          },
          "metadata": {
            "needs_background": "light"
          }
        },
        {
          "output_type": "display_data",
          "data": {
            "text/plain": [
              "<Figure size 432x288 with 1 Axes>"
            ],
            "image/png": "[encoded data removed]"
          },
          "metadata": {
            "needs_background": "light"
          }
        }
      ]
    },
    {
      "cell_type": "code",
      "source": [
        "import matplotlib.pyplot as plt\n",
        "from nltk.probability import FreqDist\n",
        "from nltk.corpus import stopwords\n",
        "from nltk.tokenize import word_tokenize\n",
        "text = \"This is a sample text used to demonstrate the frequency distribution of the words.\"\n",
        "tokens = word_tokenize(text)\n",
        "stop_words = set(stopwords.words('english'))\n",
        "filtered_tokens = [token for token in tokens if token.lower() not in stop_words]\n",
        "fdist = FreqDist(filtered_tokens)\n",
        "print(fdist.most_common(10))\n",
        "fdist.plot(30, cumulative=False)\n",
        "plt.title('Top 30 Words Frequency Distribution')\n",
        "plt.xlabel('Words')\n",
        "plt.ylabel('Frequency')\n",
        "plt.savefig('frequency_distribution.png')\n",
        "plt.show()\n",
        "#The code looks good and complete. It tokenizes the given text, removes stop words, creates a frequency distribution of the filtered tokens, prints the 10 most common words, plots a frequency distribution graph of the top 30 words, adds labels and a title to the plot, saves the plot as an image file named 'frequency_distribution.png', and displays the plot on the screen.\n"
      ],
      "metadata": {
        "colab": {
          "base_uri": "https://localhost:8080/",
          "height": 628
        },
        "id": "v9R4iIvmLktT",
        "outputId": "bfb76c09-fc27-4822-cedf-dfbd2ab91360"
      },
      "execution_count": 27,
      "outputs": [
        {
          "output_type": "stream",
          "name": "stdout",
          "text": [
            "[('sample', 1), ('text', 1), ('used', 1), ('demonstrate', 1), ('frequency', 1), ('distribution', 1), ('words', 1), ('.', 1)]\n"
          ]
        },
        {
          "output_type": "display_data",
          "data": {
            "text/plain": [
              "<Figure size 432x288 with 1 Axes>"
            ],
            "image/png": "[encoded data removed]"
          },
          "metadata": {
            "needs_background": "light"
          }
        },
        {
          "output_type": "display_data",
          "data": {
            "text/plain": [
              "<Figure size 432x288 with 1 Axes>"
            ],
            "image/png": "[encoded data removed]"
          },
          "metadata": {
            "needs_background": "light"
          }
        }
      ]
    },
    {
      "cell_type": "code",
      "source": [
        "# Let's add some comments to the code for better understanding\n",
        "# Importing necessary libraries\n",
        "import nltk\n",
        "from nltk.corpus import stopwords\n",
        "from nltk.tokenize import word_tokenize\n",
        "from nltk.probability import FreqDist\n",
        "import matplotlib.pyplot as plt\n",
        "# Tokenizing the given text\n",
        "# Creating a set of stop words in English language\n",
        "# Filtering out the stop words from the tokens\n",
        "# Creating a frequency distribution of the filtered tokens\n",
        "# Printing the 10 most common words\n",
        "# Plotting a frequency distribution graph of the top 30 words\n",
        "# Adding labels and a title to the plot\n",
        "# Saving the plot as an image file named\n",
        "'frequency_distribution.png'\n",
        "# Displaying the plot on the screen\n",
        "plt.show()\n",
        "\n",
        "\n",
        "# Here's the complete code with comments:\n",
        "import nltk\n",
        "from nltk.corpus import stopwords\n",
        "from nltk.tokenize import word_tokenize\n",
        "from nltk.probability import FreqDist\n",
        "import matplotlib.pyplot as plt\n",
        "\n",
        "# Tokenizing the given text\n",
        "text = \"Lorem ipsum dolor sit amet, consectetur adipiscing elit. Sed non risus. Suspendisse lectus tortor, dignissim sit amet, adipiscing nec, ultricies sed, dolor. Cras elementum ultrices diam. Maecenas ligula massa, varius a, semper congue, euismod non, mi.\"\n",
        "tokens\n",
        "import nltk\n",
        "nltk.download('punkt')\n",
        "tokens = nltk.word_tokenize(text)\n",
        "print(tokens)\n",
        "# Tokenizing the given text\n",
        "text = \"Lorem ipsum dolor sit amet, consectetur adipiscing elit. Sed non risus. Suspendisse lectus tortor, dignissim sit amet, adipiscing nec, ultricies sed, dolor. Cras elementum ultrices diam. Maecenas ligula massa, varius a, semper congue, euismod non, mi.\"\n",
        "import nltk\n",
        "nltk.download('punkt')\n",
        "tokens = nltk.word_tokenize(text)\n",
        "print(tokens)\n",
        "#The given code is tokenizing the text using the `word_tokenize()` function from the Natural Language Toolkit (nltk) library. The `punkt` module from nltk is downloaded to use this function. The tokenized words are then printed using the `print()` function.\n",
        "\n"
      ],
      "metadata": {
        "colab": {
          "base_uri": "https://localhost:8080/"
        },
        "id": "z_U5OyQ-MQtG",
        "outputId": "738298b2-08ed-4f7f-dc26-cfef46173d63"
      },
      "execution_count": 34,
      "outputs": [
        {
          "output_type": "stream",
          "name": "stdout",
          "text": [
            "['Lorem', 'ipsum', 'dolor', 'sit', 'amet', ',', 'consectetur', 'adipiscing', 'elit', '.', 'Sed', 'non', 'risus', '.', 'Suspendisse', 'lectus', 'tortor', ',', 'dignissim', 'sit', 'amet', ',', 'adipiscing', 'nec', ',', 'ultricies', 'sed', ',', 'dolor', '.', 'Cras', 'elementum', 'ultrices', 'diam', '.', 'Maecenas', 'ligula', 'massa', ',', 'varius', 'a', ',', 'semper', 'congue', ',', 'euismod', 'non', ',', 'mi', '.']\n",
            "['Lorem', 'ipsum', 'dolor', 'sit', 'amet', ',', 'consectetur', 'adipiscing', 'elit', '.', 'Sed', 'non', 'risus', '.', 'Suspendisse', 'lectus', 'tortor', ',', 'dignissim', 'sit', 'amet', ',', 'adipiscing', 'nec', ',', 'ultricies', 'sed', ',', 'dolor', '.', 'Cras', 'elementum', 'ultrices', 'diam', '.', 'Maecenas', 'ligula', 'massa', ',', 'varius', 'a', ',', 'semper', 'congue', ',', 'euismod', 'non', ',', 'mi', '.']\n"
          ]
        },
        {
          "output_type": "stream",
          "name": "stderr",
          "text": [
            "[nltk_data] Downloading package punkt to /root/nltk_data...\n",
            "[nltk_data]   Package punkt is already up-to-date!\n",
            "[nltk_data] Downloading package punkt to /root/nltk_data...\n",
            "[nltk_data]   Package punkt is already up-to-date!\n"
          ]
        }
      ]
    },
    {
      "cell_type": "code",
      "source": [
        "# Removing stop words from the tokenized text\n",
        "from nltk.corpus import stopwords\n",
        "nltk.download('stopwords')\n",
        "stop_words = set(stopwords.words('english'))\n",
        "filtered_tokens = [word for word in tokens if not word.lower() in stop_words]\n",
        "print(filtered_tokens)\n",
        "#The above code is removing the stop words from the tokenized text using the `stopwords` corpus from nltk.\n",
        "# Stemming the filtered tokens\n",
        "from nltk.stem import PorterStemmer\n",
        "stemmer = PorterStemmer()\n",
        "stemmed_tokens = [stemmer.stem(word) for word in filtered_tokens]\n",
        "print(stemmed_tokens)\n",
        "#The above code is stemming the filtered tokens using the `PorterStemmer` algorithm from nltk. The stemmed tokens are then printed using the `print()` function \n"
      ],
      "metadata": {
        "colab": {
          "base_uri": "https://localhost:8080/"
        },
        "id": "VvU4-yjXM-oQ",
        "outputId": "c624ac97-f104-4de0-c4f6-a910d5dfcada"
      },
      "execution_count": 35,
      "outputs": [
        {
          "output_type": "stream",
          "name": "stdout",
          "text": [
            "['Lorem', 'ipsum', 'dolor', 'sit', 'amet', ',', 'consectetur', 'adipiscing', 'elit', '.', 'Sed', 'non', 'risus', '.', 'Suspendisse', 'lectus', 'tortor', ',', 'dignissim', 'sit', 'amet', ',', 'adipiscing', 'nec', ',', 'ultricies', 'sed', ',', 'dolor', '.', 'Cras', 'elementum', 'ultrices', 'diam', '.', 'Maecenas', 'ligula', 'massa', ',', 'varius', ',', 'semper', 'congue', ',', 'euismod', 'non', ',', 'mi', '.']\n",
            "['lorem', 'ipsum', 'dolor', 'sit', 'amet', ',', 'consectetur', 'adipisc', 'elit', '.', 'sed', 'non', 'risu', '.', 'suspendiss', 'lectu', 'tortor', ',', 'dignissim', 'sit', 'amet', ',', 'adipisc', 'nec', ',', 'ultrici', 'sed', ',', 'dolor', '.', 'cra', 'elementum', 'ultric', 'diam', '.', 'maecena', 'ligula', 'massa', ',', 'variu', ',', 'semper', 'congu', ',', 'euismod', 'non', ',', 'mi', '.']\n"
          ]
        },
        {
          "output_type": "stream",
          "name": "stderr",
          "text": [
            "[nltk_data] Downloading package stopwords to /root/nltk_data...\n",
            "[nltk_data]   Package stopwords is already up-to-date!\n"
          ]
        }
      ]
    },
    {
      "cell_type": "code",
      "source": [
        "# Lemmatizing the stemmed tokens\n",
        "from nltk.stem import WordNetLemmatizer\n",
        "nltk.download('wordnet')\n",
        "lemmatizer = WordNetLemmatizer()\n",
        "lemmatized_tokens = [lemmatizer.lemmatize(word) for word in stemmed_tokens]\n",
        "print(lemmatized_tokens)\n",
        "#The above code is lemmatizing the stemmed tokens using the `\n",
        "#WordNetLemmatizer` algorithm from nltk. The lemmatized tokens are then printed using the `print()` function.\n",
        "# Creating a frequency distribution of the lemmatized tokens\n",
        "from nltk.probability import FreqDist\n",
        "fdist = FreqDist(lemmatized_tokens)\n",
        "print(fdist)\n",
        "#The above code is creating a frequency distribution of the lemmatized tokens using the `FreqDist` function from nltk. The frequency distribution is then printed using the `print()` function.\n"
      ],
      "metadata": {
        "colab": {
          "base_uri": "https://localhost:8080/"
        },
        "id": "qwMaIbgwNGDo",
        "outputId": "a423c4a2-cabf-4dd2-a719-a80452bd2c9e"
      },
      "execution_count": 36,
      "outputs": [
        {
          "output_type": "stream",
          "name": "stdout",
          "text": [
            "['lorem', 'ipsum', 'dolor', 'sit', 'amet', ',', 'consectetur', 'adipisc', 'elit', '.', 'sed', 'non', 'risu', '.', 'suspendiss', 'lectu', 'tortor', ',', 'dignissim', 'sit', 'amet', ',', 'adipisc', 'nec', ',', 'ultrici', 'sed', ',', 'dolor', '.', 'cra', 'elementum', 'ultric', 'diam', '.', 'maecena', 'ligula', 'massa', ',', 'variu', ',', 'semper', 'congu', ',', 'euismod', 'non', ',', 'mi', '.']\n",
            "<FreqDist with 31 samples and 49 outcomes>\n"
          ]
        },
        {
          "output_type": "stream",
          "name": "stderr",
          "text": [
            "[nltk_data] Downloading package wordnet to /root/nltk_data...\n",
            "[nltk_data]   Package wordnet is already up-to-date!\n"
          ]
        }
      ]
    },
    {
      "cell_type": "code",
      "source": [
        "# Visualizing the frequency distribution using a plot\n",
        "import matplotlib.pyplot as plt\n",
        "fdist.plot(30, cumulative=False)\n",
        "plt.show()\n",
        "#The above code is visualizing the frequency distribution of the lemmatized tokens using a plot. The `plot()` function from matplotlib is used to create the plot and the `show()` function is used to display the plot. The plot shows the top\n",
        "#30 most frequent lemmatized tokens in the text data. The `cumulative` parameter is set to `False` to show the frequency of each token individually.\n",
        "\n",
        "# Identifying stop words and removing them from the lemmatized tokens\n",
        "from nltk.corpus import stopwords\n",
        "stop_words = set(stopwords.words('english'))\n",
        "filtered_tokens = [token for token in lemmatized_tokens if token.lower() not in stop_words]\n",
        "#The above code is importing the `stopwords` corpus from the `nltk` library and creating a set of stop words for the English language using the `set()` function and `stopwords.words('english')`. The lemmatized tokens are then filtered to remove any stop words using a list comprehension. The `lower()` method is used to convert each token to lowercase before checking if it\n",
        "#is a stop word. The filtered tokens are stored in the `filtered_tokens` variable.\n",
        "\n"
      ],
      "metadata": {
        "colab": {
          "base_uri": "https://localhost:8080/",
          "height": 328
        },
        "id": "MEHwRl8PNbKB",
        "outputId": "d2446064-a91d-49ef-8664-b6d5a931bd42"
      },
      "execution_count": 40,
      "outputs": [
        {
          "output_type": "display_data",
          "data": {
            "text/plain": [
              "<Figure size 432x288 with 1 Axes>"
            ],
            "image/png": "[encoded data removed]"
          },
          "metadata": {
            "needs_background": "light"
          }
        }
      ]
    },
    {
      "cell_type": "code",
      "source": [
        "# Creating a frequency distribution of the filtered tokens\n",
        "\n",
        "from nltk.probability import FreqDist\n",
        "fdist = FreqDist(filtered_tokens)\n",
        "# Plotting the frequency distribution of the filtered tokens\n",
        "\n",
        "import matplotlib.pyplot as plt\n",
        "fdist.plot(30, cumulative=False, title='Frequency Distribution of Filtered Tokens')\n",
        "\n",
        "plt.show()\n",
        "# The above code is creating a frequency distribution of the filtered tokens using the `FreqDist()` function from the `nltk.probability` module. The resulting frequency distribution is stored in the `fdist` variable.\n"
      ],
      "metadata": {
        "colab": {
          "base_uri": "https://localhost:8080/",
          "height": 344
        },
        "id": "MRNnnHJNN7RS",
        "outputId": "f5fd6599-1120-4a0a-e2d1-fbce982dc9fc"
      },
      "execution_count": 41,
      "outputs": [
        {
          "output_type": "display_data",
          "data": {
            "text/plain": [
              "<Figure size 432x288 with 1 Axes>"
            ],
            "image/png": "[encoded data removed]"
          },
          "metadata": {
            "needs_background": "light"
          }
        }
      ]
    },
    {
      "cell_type": "code",
      "source": [
        "#The code then uses the `plot()` function from the `matplotlib.pyplot` module to plot the frequency distribution. The `plot()` function takes three arguments: the number of most common tokens to plot (`30` in this case), whether to plot a cumulative distribution (`False` in this case), and the title of the plot (`'Frequency Distribution of Filtered Tokens'` in this case). Finally, the `show()` function is called to display the plot. Here's the complete code:from nltk.probability import FreqDist    \n",
        "\n",
        "from nltk.tokenize import word_tokenize\n",
        "import matplotlib.pyplot as plt\n",
        "text = \"This is a sample text for tokenization. We will use this text to demonstrate how tokenization works.\"\n",
        "tokens = word_tokenize(text)\n",
        "filtered_tokens = [token for token in tokens if token.isalpha()]\n",
        "fdist = FreqDist(filtered_tokens)\n",
        "fdist.plot(30, cumulative=False, title='Frequency Distribution of Filtered Tokens')\n",
        "plt.show()\n",
        "\n",
        "#The following code reads a text file named 'example.txt' and stores its content in the variable 'text'. It then tokenizes the text using the `word_tokenize()` function from the `nltk.tokenize` module. The resulting tokens are stored in the variable 'tokens'. The code then creates a list of stop words using the `stopwords.words()` function from the `nltk.corpus"
      ],
      "metadata": {
        "colab": {
          "base_uri": "https://localhost:8080/",
          "height": 349
        },
        "id": "lcyvOy-GOVUL",
        "outputId": "456d55d4-dc7a-4206-a80a-08c9a6b559c1"
      },
      "execution_count": 42,
      "outputs": [
        {
          "output_type": "display_data",
          "data": {
            "text/plain": [
              "<Figure size 432x288 with 1 Axes>"
            ],
            "image/png": "[encoded data removed]"
          },
          "metadata": {
            "needs_background": "light"
          }
        }
      ]
    }
  ]
}