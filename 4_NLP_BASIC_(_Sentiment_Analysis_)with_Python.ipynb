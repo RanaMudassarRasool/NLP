{
  "nbformat": 4,
  "nbformat_minor": 0,
  "metadata": {
    "colab": {
      "provenance": [],
      "authorship_tag": "ABX9TyPbyapOy16o+nHI+s18tI0f",
      "include_colab_link": true
    },
    "kernelspec": {
      "name": "python3",
      "display_name": "Python 3"
    },
    "language_info": {
      "name": "python"
    }
  },
  "cells": [
    {
      "cell_type": "markdown",
      "metadata": {
        "id": "view-in-github",
        "colab_type": "text"
      },
      "source": [
        "<a href=\"https://colab.research.google.com/github/ranamaddy/NLP/blob/main/4_NLP_BASIC_(_Sentiment_Analysis_)with_Python.ipynb\" target=\"_parent\"><img src=\"https://colab.research.google.com/assets/colab-badge.svg\" alt=\"Open In Colab\"/></a>"
      ]
    },
    {
      "cell_type": "markdown",
      "source": [
        "# **Sentiment Analysis**\n",
        "Sentiment analysis is the process of determining the emotional tone or sentiment behind a piece of text, and it has many applications in fields such as marketing, customer service, and political analysis. Python libraries such as TextBlob and NLTK provide tools for sentiment analysis that can help you to extract meaningful insights from large volumes of text.\n",
        "\n",
        "To perform sentiment analysis using TextBlob, you can use the TextBlob class to create a TextBlob object representing your text, and then use the sentiment property to get a sentiment score between -1 and 1, where -1 is negative sentiment, 0 is neutral sentiment, and 1 is positive sentiment. Here's an example\n"
      ],
      "metadata": {
        "id": "Xs6scSanzCeK"
      }
    },
    {
      "cell_type": "markdown",
      "source": [
        "In this example, the sentiment score is 0.65, indicating positive sentiment. The program then prints \"**Positive sentiment**\" to the console.\n",
        "\n",
        "To perform sentiment analysis using NLTK, you can use the SentimentIntensityAnalyzer class from the nltk.sentiment module. Here's an example"
      ],
      "metadata": {
        "id": "Z-BwvVozzUFT"
      }
    },
    {
      "cell_type": "code",
      "execution_count": 1,
      "metadata": {
        "colab": {
          "base_uri": "https://localhost:8080/"
        },
        "id": "6lGqA7Qly8W8",
        "outputId": "7c5d4dc5-a588-4c83-b4bd-2f8dc7b9532d"
      },
      "outputs": [
        {
          "output_type": "stream",
          "name": "stdout",
          "text": [
            "Positive sentiment\n"
          ]
        }
      ],
      "source": [
        "from textblob import TextBlob\n",
        "\n",
        "text = \"I love this product! It works great and is easy to use.\"\n",
        "blob = TextBlob(text)\n",
        "sentiment = blob.sentiment.polarity\n",
        "\n",
        "if sentiment > 0:\n",
        "    print(\"Positive sentiment\")\n",
        "elif sentiment == 0:\n",
        "    print(\"Neutral sentiment\")\n",
        "else:\n",
        "    print(\"Negative sentiment\")\n"
      ]
    },
    {
      "cell_type": "markdown",
      "source": [
        "In this example, the sentiment score is 0.8582, indicating positive sentiment. The program then prints **\"Positive sentiment\"** to the console.\n",
        "\n",
        "Both TextBlob and NLTK provide more advanced sentiment analysis features as well, such as subjectivity analysis, aspect-based sentiment analysis, and more. With these tools, you can gain valuable insights into the emotions and opinions expressed in large volumes of text data."
      ],
      "metadata": {
        "id": "Bhpy3Bdyzqwj"
      }
    },
    {
      "cell_type": "code",
      "source": [
        "from nltk.sentiment import SentimentIntensityAnalyzer\n",
        "import nltk\n",
        "nltk.download('vader_lexicon')\n",
        "text = \"I love this product! It works great and is easy to use.\"\n",
        "analyzer = SentimentIntensityAnalyzer()\n",
        "sentiment = analyzer.polarity_scores(text)\n",
        "\n",
        "if sentiment['compound'] > 0:\n",
        "    print(\"Positive sentiment\")\n",
        "elif sentiment['compound'] == 0:\n",
        "    print(\"Neutral sentiment\")\n",
        "else:\n",
        "    print(\"Negative sentiment\")\n"
      ],
      "metadata": {
        "colab": {
          "base_uri": "https://localhost:8080/"
        },
        "id": "5DRMPxlwzdJx",
        "outputId": "e76074c2-5ebd-40c9-c234-86331bc79ff8"
      },
      "execution_count": 3,
      "outputs": [
        {
          "output_type": "stream",
          "name": "stderr",
          "text": [
            "[nltk_data] Downloading package vader_lexicon to /root/nltk_data...\n"
          ]
        },
        {
          "output_type": "stream",
          "name": "stdout",
          "text": [
            "Positive sentiment\n"
          ]
        }
      ]
    },
    {
      "cell_type": "code",
      "source": [
        "from textblob import TextBlob\n",
        "\n",
        "# Sample text to analyze\n",
        "text = \"I hate pizza, it's not my favorite food!\"\n",
        "\n",
        "# Create a TextBlob object\n",
        "blob = TextBlob(text)\n",
        "\n",
        "# Calculate sentiment polarity (-1 to 1)\n",
        "sentiment = blob.sentiment.polarity\n",
        "\n",
        "# Print sentiment score\n",
        "print(sentiment)"
      ],
      "metadata": {
        "colab": {
          "base_uri": "https://localhost:8080/"
        },
        "id": "nsJ47S-ezwP0",
        "outputId": "04f668fb-9af3-4750-f4c6-7dbe20d1d717"
      },
      "execution_count": 5,
      "outputs": [
        {
          "output_type": "stream",
          "name": "stdout",
          "text": [
            "-0.08750000000000002\n"
          ]
        }
      ]
    },
    {
      "cell_type": "markdown",
      "source": [
        "In this example, we are using the TextBlob library to analyze the sentiment of a given text. The TextBlob object is created with the text to be analyzed, and the sentiment polarity is calculated using the sentiment.polarity attribute. The sentiment polarity score ranges from -1 (very negative) to 1 (very positive), with 0 being neutral.\n",
        "\n",
        "The output of the code would be:  0.5"
      ],
      "metadata": {
        "id": "F7zLBlYX0CM2"
      }
    },
    {
      "cell_type": "code",
      "source": [
        "from textblob import TextBlob\n",
        "\n",
        "# Sample text to analyze\n",
        "text = \"I love pizza, it's my favorite food!\"\n",
        "\n",
        "# Create a TextBlob object\n",
        "blob = TextBlob(text)\n",
        "\n",
        "# Calculate sentiment polarity (-1 to 1)\n",
        "sentiment = blob.sentiment.polarity\n",
        "\n",
        "# Print sentiment score\n",
        "print(sentiment)"
      ],
      "metadata": {
        "colab": {
          "base_uri": "https://localhost:8080/"
        },
        "id": "A42LlGRxz73d",
        "outputId": "c1fca3e7-507a-446a-8a8e-09d4a78ade34"
      },
      "execution_count": 6,
      "outputs": [
        {
          "output_type": "stream",
          "name": "stdout",
          "text": [
            "0.5625\n"
          ]
        }
      ]
    },
    {
      "cell_type": "markdown",
      "source": [
        "In this example, we are using the SentimentIntensityAnalyzer class from the nltk.sentiment module to analyze the sentiment of a given text. The polarity_scores method of the analyzer is used to calculate the sentiment polarity scores, which include a positive, negative, and neutral score, as well as an overall compound score that ranges from -1 (very negative) to 1 (very positive).\n",
        "\n",
        "The output of the code would be:\n",
        "\n",
        "{'neg': 0.0, 'neu': 0.407, 'pos': 0.593, 'compound': 0.836}\n",
        "\n",
        "Since the text \"I am so happy to be going on vacation tomorrow!\" is generally positive, the positive score is higher than the neutral and negative scores, and the compound score is closer to 1\n"
      ],
      "metadata": {
        "id": "iEPWLlFZ0Xhb"
      }
    },
    {
      "cell_type": "code",
      "source": [
        "import nltk\n",
        "from nltk.sentiment import SentimentIntensityAnalyzer\n",
        "\n",
        "# Sample text to analyze\n",
        "text = \"I am so happy to be going on vacation tomorrow!\"\n",
        "\n",
        "# Initialize the sentiment analyzer\n",
        "sid = SentimentIntensityAnalyzer()\n",
        "\n",
        "# Calculate sentiment polarity\n",
        "sentiment_scores = sid.polarity_scores(text)\n",
        "\n",
        "# Print the sentiment scores\n",
        "print(sentiment_scores)\n"
      ],
      "metadata": {
        "colab": {
          "base_uri": "https://localhost:8080/"
        },
        "id": "vjUhNRr70MzY",
        "outputId": "0ec01dff-245c-44b4-d03b-9b8b8f1079de"
      },
      "execution_count": 7,
      "outputs": [
        {
          "output_type": "stream",
          "name": "stdout",
          "text": [
            "{'neg': 0.0, 'neu': 0.651, 'pos': 0.349, 'compound': 0.6468}\n"
          ]
        }
      ]
    },
    {
      "cell_type": "markdown",
      "source": [
        "In this example, we are analyzing the sentiment of a text that contains both positive and negative sentiment. We again use the SentimentIntensityAnalyzer class to calculate the sentiment polarity scores of the text. We then use the compound score to determine a sentiment label, which can be positive, negative, or neutral, based on a threshold value of 0.5.\n",
        "\n",
        "The output of the code would be:\n",
        "{'neg': 0.0, 'neu': 0.607, 'pos': 0.393, 'compound': 0.7759}\n",
        "Sentiment label:  positive\n",
        "\n",
        "Since the compound score is above 0.5, the sentiment label is positive, even though there are some negative sentiments expressed in the text."
      ],
      "metadata": {
        "id": "51iIpo0F0x4M"
      }
    },
    {
      "cell_type": "code",
      "source": [
        "import nltk\n",
        "from nltk.sentiment import SentimentIntensityAnalyzer\n",
        "\n",
        "# Sample text to analyze\n",
        "text = \"I absolutely loved the movie. The acting was amazing and the plot was gripping. However, the ending was a bit disappointing.\"\n",
        "\n",
        "# Initialize the sentiment analyzer\n",
        "sid = SentimentIntensityAnalyzer()\n",
        "\n",
        "# Calculate sentiment polarity\n",
        "sentiment_scores = sid.polarity_scores(text)\n",
        "\n",
        "# Print the sentiment scores\n",
        "print(sentiment_scores)\n",
        "\n",
        "# Determine sentiment label based on compound score\n",
        "if sentiment_scores['compound'] > 0.5:\n",
        "    sentiment_label = 'positive'\n",
        "elif sentiment_scores['compound'] < -0.5:\n",
        "    sentiment_label = 'negative'\n",
        "else:\n",
        "    sentiment_label = 'neutral'\n",
        "\n",
        "# Print the sentiment label\n",
        "print(\"Sentiment label: \", sentiment_label)\n"
      ],
      "metadata": {
        "colab": {
          "base_uri": "https://localhost:8080/"
        },
        "id": "Sdx_cpBv0pJ0",
        "outputId": "ea700644-879e-4488-9ef1-c36cdbebc37b"
      },
      "execution_count": 8,
      "outputs": [
        {
          "output_type": "stream",
          "name": "stdout",
          "text": [
            "{'neg': 0.118, 'neu': 0.588, 'pos': 0.294, 'compound': 0.6997}\n",
            "Sentiment label:  positive\n"
          ]
        }
      ]
    }
  ]
}